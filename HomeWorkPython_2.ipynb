{
 "cells": [
  {
   "cell_type": "markdown",
   "metadata": {},
   "source": [
    "# HOMEWORK PYTHON DSA\n",
    "Description    :\n",
    "<br> Author    : Wilvan Dany Aritonang\n",
    "<br> Date      : 7 October 2019"
   ]
  },
  {
   "cell_type": "code",
   "execution_count": 1,
   "metadata": {},
   "outputs": [],
   "source": [
    "import pandas as pd\n",
    "import numpy as np"
   ]
  },
  {
   "cell_type": "markdown",
   "metadata": {},
   "source": [
    "#### 1. In your Jupyter Notebook or Google Colab, import numpy and pandas library, then perform loading dataset that you have got and stored in a folder named dataset. Typical code for loading dataset is as follows: "
   ]
  },
  {
   "cell_type": "code",
   "execution_count": 3,
   "metadata": {},
   "outputs": [
    {
     "name": "stdout",
     "output_type": "stream",
     "text": [
      "kolom: 13\n",
      "baris: 10841\n"
     ]
    }
   ],
   "source": [
    "gplay = pd.read_csv(\"googleplaystore.csv\", encoding='latin1')\n",
    "\n",
    "print(\"kolom:\",len(gplay.columns))\n",
    "print(\"baris:\",len(gplay))"
   ]
  },
  {
   "cell_type": "markdown",
   "metadata": {},
   "source": [
    "#### 2. How many unique apps categories reflected in the dataset? "
   ]
  },
  {
   "cell_type": "code",
   "execution_count": 4,
   "metadata": {},
   "outputs": [
    {
     "data": {
      "text/plain": [
       "34"
      ]
     },
     "execution_count": 4,
     "metadata": {},
     "output_type": "execute_result"
    }
   ],
   "source": [
    "gplay['Category'].nunique()"
   ]
  },
  {
   "cell_type": "markdown",
   "metadata": {},
   "source": [
    "#### 3. How many unique genres according to the dataset?"
   ]
  },
  {
   "cell_type": "code",
   "execution_count": 5,
   "metadata": {},
   "outputs": [
    {
     "data": {
      "text/plain": [
       "120"
      ]
     },
     "execution_count": 5,
     "metadata": {},
     "output_type": "execute_result"
    }
   ],
   "source": [
    "gplay['Genres'].nunique()"
   ]
  },
  {
   "cell_type": "markdown",
   "metadata": {},
   "source": [
    "#### 4. Which code is appropriate to drop duplicate values in 'App' column and remove its rows in Python?  Assume dataset was loaded as a pandas data frame variable: google_play_apps."
   ]
  },
  {
   "cell_type": "code",
   "execution_count": 6,
   "metadata": {},
   "outputs": [],
   "source": [
    "gplay.drop_duplicates(subset='App', inplace=True)"
   ]
  },
  {
   "cell_type": "markdown",
   "metadata": {},
   "source": [
    "#### 5. Upon removing duplicate of App column, please run the following code to remove a row that contain 'Free' value at the 'Installs' column. You can check first with this code: "
   ]
  },
  {
   "cell_type": "code",
   "execution_count": 7,
   "metadata": {},
   "outputs": [
    {
     "data": {
      "text/html": [
       "<div>\n",
       "<style scoped>\n",
       "    .dataframe tbody tr th:only-of-type {\n",
       "        vertical-align: middle;\n",
       "    }\n",
       "\n",
       "    .dataframe tbody tr th {\n",
       "        vertical-align: top;\n",
       "    }\n",
       "\n",
       "    .dataframe thead th {\n",
       "        text-align: right;\n",
       "    }\n",
       "</style>\n",
       "<table border=\"1\" class=\"dataframe\">\n",
       "  <thead>\n",
       "    <tr style=\"text-align: right;\">\n",
       "      <th></th>\n",
       "      <th>App</th>\n",
       "      <th>Category</th>\n",
       "      <th>Rating</th>\n",
       "      <th>Reviews</th>\n",
       "      <th>Size</th>\n",
       "      <th>Installs</th>\n",
       "      <th>Type</th>\n",
       "      <th>Price</th>\n",
       "      <th>Content Rating</th>\n",
       "      <th>Genres</th>\n",
       "      <th>Last Updated</th>\n",
       "      <th>Current Ver</th>\n",
       "      <th>Android Ver</th>\n",
       "    </tr>\n",
       "  </thead>\n",
       "  <tbody>\n",
       "    <tr>\n",
       "      <th>10472</th>\n",
       "      <td>Life Made WI-Fi Touchscreen Photo Frame</td>\n",
       "      <td>1.9</td>\n",
       "      <td>19.0</td>\n",
       "      <td>3.0M</td>\n",
       "      <td>1,000+</td>\n",
       "      <td>Free</td>\n",
       "      <td>0</td>\n",
       "      <td>Everyone</td>\n",
       "      <td>NaN</td>\n",
       "      <td>February 11, 2018</td>\n",
       "      <td>1.0.19</td>\n",
       "      <td>4.0 and up</td>\n",
       "      <td>NaN</td>\n",
       "    </tr>\n",
       "  </tbody>\n",
       "</table>\n",
       "</div>"
      ],
      "text/plain": [
       "                                           App Category  Rating Reviews  \\\n",
       "10472  Life Made WI-Fi Touchscreen Photo Frame      1.9    19.0    3.0M   \n",
       "\n",
       "         Size Installs Type     Price Content Rating             Genres  \\\n",
       "10472  1,000+     Free    0  Everyone            NaN  February 11, 2018   \n",
       "\n",
       "      Last Updated Current Ver Android Ver  \n",
       "10472       1.0.19  4.0 and up         NaN  "
      ]
     },
     "execution_count": 7,
     "metadata": {},
     "output_type": "execute_result"
    }
   ],
   "source": [
    "gplay[gplay['Installs']=='Free']"
   ]
  },
  {
   "cell_type": "code",
   "execution_count": 8,
   "metadata": {},
   "outputs": [],
   "source": [
    "gplay = gplay[gplay['Installs'] != 'Free']"
   ]
  },
  {
   "cell_type": "code",
   "execution_count": 9,
   "metadata": {},
   "outputs": [],
   "source": [
    "gplay['Installs'] = gplay['Installs'].apply(lambda x: x.replace('+', '') if '+' in str(x) else x)"
   ]
  },
  {
   "cell_type": "code",
   "execution_count": 10,
   "metadata": {},
   "outputs": [],
   "source": [
    "gplay['Installs'] = gplay['Installs'].apply(lambda x: x.replace(',', '') if ',' in str(x) else x)"
   ]
  },
  {
   "cell_type": "code",
   "execution_count": 11,
   "metadata": {},
   "outputs": [
    {
     "data": {
      "text/plain": [
       "App                object\n",
       "Category           object\n",
       "Rating            float64\n",
       "Reviews            object\n",
       "Size               object\n",
       "Installs           object\n",
       "Type               object\n",
       "Price              object\n",
       "Content Rating     object\n",
       "Genres             object\n",
       "Last Updated       object\n",
       "Current Ver        object\n",
       "Android Ver        object\n",
       "dtype: object"
      ]
     },
     "execution_count": 11,
     "metadata": {},
     "output_type": "execute_result"
    }
   ],
   "source": [
    "gplay.dtypes"
   ]
  },
  {
   "cell_type": "markdown",
   "metadata": {},
   "source": [
    "#### 6. If you want to convert data type of 'Installs' columns into integer, you can run the following code. "
   ]
  },
  {
   "cell_type": "code",
   "execution_count": 12,
   "metadata": {},
   "outputs": [],
   "source": [
    "gplay['Installs'] = gplay['Installs'].astype(int)"
   ]
  },
  {
   "cell_type": "code",
   "execution_count": 13,
   "metadata": {},
   "outputs": [
    {
     "data": {
      "text/plain": [
       "App                object\n",
       "Category           object\n",
       "Rating            float64\n",
       "Reviews            object\n",
       "Size               object\n",
       "Installs            int32\n",
       "Type               object\n",
       "Price              object\n",
       "Content Rating     object\n",
       "Genres             object\n",
       "Last Updated       object\n",
       "Current Ver        object\n",
       "Android Ver        object\n",
       "dtype: object"
      ]
     },
     "execution_count": 13,
     "metadata": {},
     "output_type": "execute_result"
    }
   ],
   "source": [
    "gplay.dtypes"
   ]
  },
  {
   "cell_type": "markdown",
   "metadata": {},
   "source": [
    "#### 7. Match Apps and Category based on provided dataset! "
   ]
  },
  {
   "cell_type": "code",
   "execution_count": 14,
   "metadata": {},
   "outputs": [],
   "source": [
    "appcat = gplay.groupby('App').Category.first()"
   ]
  },
  {
   "cell_type": "code",
   "execution_count": 91,
   "metadata": {},
   "outputs": [
    {
     "data": {
      "text/plain": [
       "'COMMUNICATION'"
      ]
     },
     "execution_count": 91,
     "metadata": {},
     "output_type": "execute_result"
    }
   ],
   "source": [
    "appcat['WhatsApp Messenger']"
   ]
  },
  {
   "cell_type": "code",
   "execution_count": 92,
   "metadata": {},
   "outputs": [
    {
     "data": {
      "text/plain": [
       "'PRODUCTIVITY'"
      ]
     },
     "execution_count": 92,
     "metadata": {},
     "output_type": "execute_result"
    }
   ],
   "source": [
    "appcat['Dropbox']"
   ]
  },
  {
   "cell_type": "code",
   "execution_count": 17,
   "metadata": {},
   "outputs": [
    {
     "data": {
      "text/plain": [
       "'SOCIAL'"
      ]
     },
     "execution_count": 17,
     "metadata": {},
     "output_type": "execute_result"
    }
   ],
   "source": [
    "appcat['Pinterest']"
   ]
  },
  {
   "cell_type": "code",
   "execution_count": 93,
   "metadata": {},
   "outputs": [
    {
     "data": {
      "text/plain": [
       "'NEWS_AND_MAGAZINES'"
      ]
     },
     "execution_count": 93,
     "metadata": {},
     "output_type": "execute_result"
    }
   ],
   "source": [
    "appcat['Flipboard: News For Our Time']"
   ]
  },
  {
   "cell_type": "code",
   "execution_count": 94,
   "metadata": {},
   "outputs": [
    {
     "data": {
      "text/plain": [
       "'TOOLS'"
      ]
     },
     "execution_count": 94,
     "metadata": {},
     "output_type": "execute_result"
    }
   ],
   "source": [
    "appcat['DU Battery Saver - Battery Charger & Battery Life']"
   ]
  },
  {
   "cell_type": "code",
   "execution_count": 95,
   "metadata": {},
   "outputs": [
    {
     "data": {
      "text/plain": [
       "'BUSINESS'"
      ]
     },
     "execution_count": 95,
     "metadata": {},
     "output_type": "execute_result"
    }
   ],
   "source": [
    "appcat['File Commander - File Manager/Explorer']"
   ]
  },
  {
   "cell_type": "code",
   "execution_count": 96,
   "metadata": {},
   "outputs": [
    {
     "data": {
      "text/plain": [
       "'GAME'"
      ]
     },
     "execution_count": 96,
     "metadata": {},
     "output_type": "execute_result"
    }
   ],
   "source": [
    "appcat['Subway Surfers']"
   ]
  },
  {
   "cell_type": "code",
   "execution_count": 97,
   "metadata": {},
   "outputs": [
    {
     "data": {
      "text/plain": [
       "'SPORTS'"
      ]
     },
     "execution_count": 97,
     "metadata": {},
     "output_type": "execute_result"
    }
   ],
   "source": [
    "appcat['FIFA Soccer']"
   ]
  },
  {
   "cell_type": "markdown",
   "metadata": {},
   "source": [
    "#### 8. The following applications were installed by more than 1 billion users, EXCEPT ... . "
   ]
  },
  {
   "cell_type": "code",
   "execution_count": 98,
   "metadata": {},
   "outputs": [
    {
     "data": {
      "text/html": [
       "<div>\n",
       "<style scoped>\n",
       "    .dataframe tbody tr th:only-of-type {\n",
       "        vertical-align: middle;\n",
       "    }\n",
       "\n",
       "    .dataframe tbody tr th {\n",
       "        vertical-align: top;\n",
       "    }\n",
       "\n",
       "    .dataframe thead th {\n",
       "        text-align: right;\n",
       "    }\n",
       "</style>\n",
       "<table border=\"1\" class=\"dataframe\">\n",
       "  <thead>\n",
       "    <tr style=\"text-align: right;\">\n",
       "      <th></th>\n",
       "      <th>App</th>\n",
       "      <th>Category</th>\n",
       "      <th>Rating</th>\n",
       "      <th>Reviews</th>\n",
       "      <th>Size</th>\n",
       "      <th>Installs</th>\n",
       "      <th>Type</th>\n",
       "      <th>Price</th>\n",
       "      <th>Content Rating</th>\n",
       "      <th>Genres</th>\n",
       "      <th>Last Updated</th>\n",
       "      <th>Current Ver</th>\n",
       "      <th>Android Ver</th>\n",
       "    </tr>\n",
       "  </thead>\n",
       "  <tbody>\n",
       "  </tbody>\n",
       "</table>\n",
       "</div>"
      ],
      "text/plain": [
       "Empty DataFrame\n",
       "Columns: [App, Category, Rating, Reviews, Size, Installs, Type, Price, Content Rating, Genres, Last Updated, Current Ver, Android Ver]\n",
       "Index: []"
      ]
     },
     "execution_count": 98,
     "metadata": {},
     "output_type": "execute_result"
    }
   ],
   "source": [
    "gplay[gplay['Installs']>1000000000]"
   ]
  },
  {
   "cell_type": "code",
   "execution_count": 99,
   "metadata": {},
   "outputs": [],
   "source": [
    "doluset = gplay.groupby ('App').Installs.first()"
   ]
  },
  {
   "cell_type": "code",
   "execution_count": 100,
   "metadata": {},
   "outputs": [
    {
     "data": {
      "text/plain": [
       "<bound method NDFrame.head of App\n",
       "\"i DT\" FÃºtbol. Todos Somos TÃ©cnicos.                                                                                                    500\n",
       "+Download 4 Instagram Twitter                                                                                                         1000000\n",
       "- Free Comics - Comic Apps                                                                                                              10000\n",
       ".R                                                                                                                                      10000\n",
       "/u/app                                                                                                                                  10000\n",
       "058.ba                                                                                                                                    100\n",
       "1. FC KÃ¶ln App                                                                                                                        100000\n",
       "10 Best Foods for You                                                                                                                  500000\n",
       "10 Minutes a Day Times Tables                                                                                                          100000\n",
       "10 WPM Amateur ham radio CW Morse code trainer                                                                                            100\n",
       "10,000 Quotes DB (Premium)                                                                                                                500\n",
       "100 Doors of Revenge                                                                                                                 10000000\n",
       "100+ C Programs                                                                                                                          5000\n",
       "100000+ Messages - DP, Status, Jokes & GIF 2018                                                                                         10000\n",
       "101 C Programming Problems                                                                                                              50000\n",
       "104 Looking for a job - looking for a job, looking for a job, looking for a part-time job, health checkup, resume, treatment room     1000000\n",
       "11st                                                                                                                                 10000000\n",
       "12 Step Meditations & Sober Prayers AA NA AL-ANON                                                                                       50000\n",
       "14thStreetVet                                                                                                                               5\n",
       "17th Edition Cable Sizer                                                                                                                 1000\n",
       "1800 Contacts - Lens Store                                                                                                            1000000\n",
       "1LINE â One Line with One Touch                                                                                                    10000000\n",
       "1st Fed CI Mobile Banking                                                                                                                 500\n",
       "2 Amateur ham radio CW Morse code practice keys TX                                                                                        100\n",
       "2-Player Co-op Zombie Shoot                                                                                                              1000\n",
       "20 Minuten (CH)                                                                                                                       1000000\n",
       "20 minutes (CH)                                                                                                                       1000000\n",
       "2000 AD Comics and Judge Dredd                                                                                                          50000\n",
       "2017 BN SM Sales Conference                                                                                                               100\n",
       "2017 EMRA Antibiotic Guide                                                                                                               1000\n",
       "                                                                                                                                       ...   \n",
       "Å melina .cz inzerÃ¡ty inzerce                                                                                                          10000\n",
       "Ðim Training for CS                                                                                                                   100000\n",
       "ÐÐ¸Ð»ÐµÑÑ ÐÐÐ CD 2019 PRO                                                                                                           100\n",
       "Ð ÐÐ ÐÐ¾Ð²Ð¾ÑÑÐ¸                                                                                                                 1000000\n",
       "Ð ÐµÐµI Smart Remote MP3 CD Player                                                                                                       5000\n",
       "Ø£Ø­Ø¯Ø§Ø« ÙØ­ÙØ§Ø¦Ù | Ø®Ø¨Ø± Ø¹Ø§Ø¬Ù ÙÙ Ø§Ø®Ø¨Ø§Ø± Ø§ÙØ¹Ø§ÙÙ\n",
       "                                                                   5000\n",
       "Ø§ÙÙØ§ØªØ­ÙÙ Conquerors                                                                                                           5000000\n",
       "ØµÙØ± Ø­Ø±Ù H                                                                                                                          1000\n",
       "ÙØ¹Ø¨Ø© ØªÙØ¯Ø± ØªØ±Ø¨Ø­ DZ                                                                                                           10000\n",
       "à¦¬à¦¾à¦à¦²à¦¾ à¦à¦¿à¦­à¦¿ à¦ªà§à¦°à§ BD Bangla TV                                                                                  10000\n",
       "à¦¬à¦¾à¦à¦²à¦¾flix                                                                                                                    100000\n",
       "áá­ááºá¹ Astrology - Min Thein Kha BayDin                                                                                       100000\n",
       "âº MultiCraft â Free Miner! ð                                                                                                  50000000\n",
       "ãMiku AR CameraãMikuture                                                                                                          1000000\n",
       "ãRanobbe complete freeã Novelba - Free app that you can read and write novels                                                       50000\n",
       "ããªã«ã¬ãBLãç¡æã²ã¼ã                                                                                                     100000\n",
       "ãã¼ãªã¼ã²ã¤ãå\n",
       "¬å¼éè²©ï½EJ STYLEï¼ã¤ã¼ã¸ã§ã¤ã¹ã¿ã¤ã«ï¼                                                             100\n",
       "ä¸­å½èª AQãªã¹ãã³ã°                                                                                                              5000\n",
       "ä¹å±ç½: Buying a house, selling a house, renting a house                                                                            100000\n",
       "ä¹æNAVITIMEãTimetable & Route Search in Japan Tokyo                                                                              5000000\n",
       "ååå§ç¹ä¸EY                                                                                                                       10000\n",
       "æ¥æ¬AVåå²                                                                                                                          10000\n",
       "æ¼«å Comics - Manga,Novel and Stories                                                                                               1000000\n",
       "è±æ¼¢å­å\n",
       "¸ EC Dictionary                                                                                                            1000000\n",
       "ê°ì±íì BL ì²«ì¬ë                                                                                                               10000\n",
       "ë½í°ë¹ - ê°ì¸ë°©ì¡, ì¸í°ë·ë°©ì¡, BJë°©ì¡                                                                                    100000\n",
       "ð I'm rich                                                                                                                           10000\n",
       "ð WhatsLov: Smileys of love, stickers and GIF                                                                                      1000000\n",
       "ð Smart Ruler âï¸ cm/inch measuring for homework!                                                                                 10000\n",
       "ð¥ Football Wallpapers 4K | Full HD Backgrounds ð                                                                                1000000\n",
       "Name: Installs, Length: 9659, dtype: int32>"
      ]
     },
     "execution_count": 100,
     "metadata": {},
     "output_type": "execute_result"
    }
   ],
   "source": [
    "doluset.head"
   ]
  },
  {
   "cell_type": "code",
   "execution_count": 101,
   "metadata": {},
   "outputs": [
    {
     "data": {
      "text/plain": [
       "1000000000"
      ]
     },
     "execution_count": 101,
     "metadata": {},
     "output_type": "execute_result"
    }
   ],
   "source": [
    "doluset['Facebook']"
   ]
  },
  {
   "cell_type": "code",
   "execution_count": 102,
   "metadata": {},
   "outputs": [
    {
     "data": {
      "text/plain": [
       "500000000"
      ]
     },
     "execution_count": 102,
     "metadata": {},
     "output_type": "execute_result"
    }
   ],
   "source": [
    "doluset['Google Duo - High Quality Video Calls']"
   ]
  },
  {
   "cell_type": "code",
   "execution_count": 103,
   "metadata": {},
   "outputs": [
    {
     "data": {
      "text/plain": [
       "1000000000"
      ]
     },
     "execution_count": 103,
     "metadata": {},
     "output_type": "execute_result"
    }
   ],
   "source": [
    "doluset['WhatsApp Messenger']"
   ]
  },
  {
   "cell_type": "code",
   "execution_count": 106,
   "metadata": {},
   "outputs": [
    {
     "data": {
      "text/plain": [
       "1000000000"
      ]
     },
     "execution_count": 106,
     "metadata": {},
     "output_type": "execute_result"
    }
   ],
   "source": [
    "doluset['Skype - free IM & video calls']"
   ]
  },
  {
   "cell_type": "markdown",
   "metadata": {},
   "source": [
    "#### 9. Arrange top COMMUNICATION category apps from the highest number of reviews to the lowest! \n",
    "   <br>(Hint: Convert the data type to integer first. It is similar with code that was asked in question 6. "
   ]
  },
  {
   "cell_type": "code",
   "execution_count": 43,
   "metadata": {},
   "outputs": [
    {
     "data": {
      "text/plain": [
       "App                object\n",
       "Category           object\n",
       "Rating            float64\n",
       "Reviews            object\n",
       "Size               object\n",
       "Installs            int32\n",
       "Type               object\n",
       "Price              object\n",
       "Content Rating     object\n",
       "Genres             object\n",
       "Last Updated       object\n",
       "Current Ver        object\n",
       "Android Ver        object\n",
       "dtype: object"
      ]
     },
     "execution_count": 43,
     "metadata": {},
     "output_type": "execute_result"
    }
   ],
   "source": [
    "gplay.dtypes"
   ]
  },
  {
   "cell_type": "code",
   "execution_count": 48,
   "metadata": {},
   "outputs": [],
   "source": [
    "gplay['Reviews'] = gplay['Reviews'].apply(lambda x: x.replace('.0M', '000000') if '.0M' in str(x) else x)"
   ]
  },
  {
   "cell_type": "code",
   "execution_count": 49,
   "metadata": {},
   "outputs": [],
   "source": [
    "gplay['Reviews'] = gplay['Reviews'].astype(int)"
   ]
  },
  {
   "cell_type": "code",
   "execution_count": 50,
   "metadata": {},
   "outputs": [
    {
     "data": {
      "text/plain": [
       "App                object\n",
       "Category           object\n",
       "Rating            float64\n",
       "Reviews             int32\n",
       "Size               object\n",
       "Installs            int32\n",
       "Type               object\n",
       "Price              object\n",
       "Content Rating     object\n",
       "Genres             object\n",
       "Last Updated       object\n",
       "Current Ver        object\n",
       "Android Ver        object\n",
       "dtype: object"
      ]
     },
     "execution_count": 50,
     "metadata": {},
     "output_type": "execute_result"
    }
   ],
   "source": [
    "gplay.dtypes"
   ]
  },
  {
   "cell_type": "code",
   "execution_count": 58,
   "metadata": {},
   "outputs": [],
   "source": [
    "top_com = gplay[gplay.Category=='COMMUNICATION']\n",
    "top_com_cat=top_com.sort_values('Reviews', ascending=False)"
   ]
  },
  {
   "cell_type": "code",
   "execution_count": 62,
   "metadata": {},
   "outputs": [
    {
     "data": {
      "text/html": [
       "<div>\n",
       "<style scoped>\n",
       "    .dataframe tbody tr th:only-of-type {\n",
       "        vertical-align: middle;\n",
       "    }\n",
       "\n",
       "    .dataframe tbody tr th {\n",
       "        vertical-align: top;\n",
       "    }\n",
       "\n",
       "    .dataframe thead th {\n",
       "        text-align: right;\n",
       "    }\n",
       "</style>\n",
       "<table border=\"1\" class=\"dataframe\">\n",
       "  <thead>\n",
       "    <tr style=\"text-align: right;\">\n",
       "      <th></th>\n",
       "      <th>App</th>\n",
       "      <th>Reviews</th>\n",
       "    </tr>\n",
       "  </thead>\n",
       "  <tbody>\n",
       "    <tr>\n",
       "      <th>336</th>\n",
       "      <td>WhatsApp Messenger</td>\n",
       "      <td>69119316</td>\n",
       "    </tr>\n",
       "    <tr>\n",
       "      <th>335</th>\n",
       "      <td>Messenger â Text and Video Chat for Free</td>\n",
       "      <td>56642847</td>\n",
       "    </tr>\n",
       "    <tr>\n",
       "      <th>378</th>\n",
       "      <td>UC Browser - Fast Download Private &amp; Secure</td>\n",
       "      <td>17712922</td>\n",
       "    </tr>\n",
       "    <tr>\n",
       "      <th>406</th>\n",
       "      <td>BBM - Free Calls &amp; Messages</td>\n",
       "      <td>12842860</td>\n",
       "    </tr>\n",
       "    <tr>\n",
       "      <th>342</th>\n",
       "      <td>Viber Messenger</td>\n",
       "      <td>11334799</td>\n",
       "    </tr>\n",
       "    <tr>\n",
       "      <th>403</th>\n",
       "      <td>LINE: Free Calls &amp; Messages</td>\n",
       "      <td>10790289</td>\n",
       "    </tr>\n",
       "    <tr>\n",
       "      <th>391</th>\n",
       "      <td>Skype - free IM &amp; video calls</td>\n",
       "      <td>10484169</td>\n",
       "    </tr>\n",
       "    <tr>\n",
       "      <th>338</th>\n",
       "      <td>Google Chrome: Fast &amp; Secure</td>\n",
       "      <td>9642995</td>\n",
       "    </tr>\n",
       "    <tr>\n",
       "      <th>449</th>\n",
       "      <td>Truecaller: Caller ID, SMS spam blocking &amp; Dialer</td>\n",
       "      <td>7820209</td>\n",
       "    </tr>\n",
       "    <tr>\n",
       "      <th>365</th>\n",
       "      <td>WeChat</td>\n",
       "      <td>5387333</td>\n",
       "    </tr>\n",
       "    <tr>\n",
       "      <th>351</th>\n",
       "      <td>Opera Mini - fast web browser</td>\n",
       "      <td>5149854</td>\n",
       "    </tr>\n",
       "    <tr>\n",
       "      <th>347</th>\n",
       "      <td>imo free video calls and chat</td>\n",
       "      <td>4785892</td>\n",
       "    </tr>\n",
       "    <tr>\n",
       "      <th>340</th>\n",
       "      <td>Gmail</td>\n",
       "      <td>4604324</td>\n",
       "    </tr>\n",
       "    <tr>\n",
       "      <th>345</th>\n",
       "      <td>Yahoo Mail â Stay Organized</td>\n",
       "      <td>4187998</td>\n",
       "    </tr>\n",
       "    <tr>\n",
       "      <th>366</th>\n",
       "      <td>UC Browser Mini -Tiny Fast Private &amp; Secure</td>\n",
       "      <td>3648120</td>\n",
       "    </tr>\n",
       "    <tr>\n",
       "      <th>341</th>\n",
       "      <td>Hangouts</td>\n",
       "      <td>3419249</td>\n",
       "    </tr>\n",
       "    <tr>\n",
       "      <th>370</th>\n",
       "      <td>Telegram</td>\n",
       "      <td>3128250</td>\n",
       "    </tr>\n",
       "    <tr>\n",
       "      <th>344</th>\n",
       "      <td>Firefox Browser fast &amp; private</td>\n",
       "      <td>3075028</td>\n",
       "    </tr>\n",
       "    <tr>\n",
       "      <th>395</th>\n",
       "      <td>GO SMS Pro - Messenger, Free Themes, Emoji</td>\n",
       "      <td>2876500</td>\n",
       "    </tr>\n",
       "    <tr>\n",
       "      <th>407</th>\n",
       "      <td>KakaoTalk: Free Calls &amp; Text</td>\n",
       "      <td>2546527</td>\n",
       "    </tr>\n",
       "    <tr>\n",
       "      <th>418</th>\n",
       "      <td>Dolphin Browser - Fast, Private &amp; Adblockð¬</td>\n",
       "      <td>2511130</td>\n",
       "    </tr>\n",
       "    <tr>\n",
       "      <th>356</th>\n",
       "      <td>Opera Browser: Fast and Secure</td>\n",
       "      <td>2473509</td>\n",
       "    </tr>\n",
       "    <tr>\n",
       "      <th>4279</th>\n",
       "      <td>Kik</td>\n",
       "      <td>2451136</td>\n",
       "    </tr>\n",
       "    <tr>\n",
       "      <th>363</th>\n",
       "      <td>Who</td>\n",
       "      <td>2451083</td>\n",
       "    </tr>\n",
       "    <tr>\n",
       "      <th>413</th>\n",
       "      <td>CM Browser - Ad Blocker , Fast Download , Privacy</td>\n",
       "      <td>2264916</td>\n",
       "    </tr>\n",
       "    <tr>\n",
       "      <th>371</th>\n",
       "      <td>Google Duo - High Quality Video Calls</td>\n",
       "      <td>2083237</td>\n",
       "    </tr>\n",
       "    <tr>\n",
       "      <th>339</th>\n",
       "      <td>Messenger Lite: Free Calls &amp; Messages</td>\n",
       "      <td>1429035</td>\n",
       "    </tr>\n",
       "    <tr>\n",
       "      <th>424</th>\n",
       "      <td>DU BrowserâBrowse fast &amp; fun</td>\n",
       "      <td>1133501</td>\n",
       "    </tr>\n",
       "    <tr>\n",
       "      <th>4739</th>\n",
       "      <td>WhatsCall Free Global Phone Call App &amp; Cheap C...</td>\n",
       "      <td>1130966</td>\n",
       "    </tr>\n",
       "    <tr>\n",
       "      <th>3892</th>\n",
       "      <td>Azar</td>\n",
       "      <td>1092337</td>\n",
       "    </tr>\n",
       "    <tr>\n",
       "      <th>...</th>\n",
       "      <td>...</td>\n",
       "      <td>...</td>\n",
       "    </tr>\n",
       "    <tr>\n",
       "      <th>337</th>\n",
       "      <td>Messenger for SMS</td>\n",
       "      <td>125257</td>\n",
       "    </tr>\n",
       "    <tr>\n",
       "      <th>429</th>\n",
       "      <td>ExDialer - Dialer &amp; Contacts</td>\n",
       "      <td>125232</td>\n",
       "    </tr>\n",
       "    <tr>\n",
       "      <th>458</th>\n",
       "      <td>GO Notifier</td>\n",
       "      <td>124346</td>\n",
       "    </tr>\n",
       "    <tr>\n",
       "      <th>457</th>\n",
       "      <td>Newton Mail - Email App for Gmail, Outlook, IMAP</td>\n",
       "      <td>122595</td>\n",
       "    </tr>\n",
       "    <tr>\n",
       "      <th>384</th>\n",
       "      <td>Hangouts Dialer - Call Phones</td>\n",
       "      <td>122498</td>\n",
       "    </tr>\n",
       "    <tr>\n",
       "      <th>4948</th>\n",
       "      <td>Adblock Browser for Android</td>\n",
       "      <td>121113</td>\n",
       "    </tr>\n",
       "    <tr>\n",
       "      <th>434</th>\n",
       "      <td>Full Screen Caller ID</td>\n",
       "      <td>104990</td>\n",
       "    </tr>\n",
       "    <tr>\n",
       "      <th>353</th>\n",
       "      <td>MegaFon Dashboard</td>\n",
       "      <td>99559</td>\n",
       "    </tr>\n",
       "    <tr>\n",
       "      <th>8904</th>\n",
       "      <td>Caller ID &amp; Call Block - DU Caller</td>\n",
       "      <td>93930</td>\n",
       "    </tr>\n",
       "    <tr>\n",
       "      <th>444</th>\n",
       "      <td>Call Control - Call Blocker</td>\n",
       "      <td>93825</td>\n",
       "    </tr>\n",
       "    <tr>\n",
       "      <th>453</th>\n",
       "      <td>K-9 Mail</td>\n",
       "      <td>88427</td>\n",
       "    </tr>\n",
       "    <tr>\n",
       "      <th>388</th>\n",
       "      <td>Calls &amp; Text by Mo+</td>\n",
       "      <td>83239</td>\n",
       "    </tr>\n",
       "    <tr>\n",
       "      <th>10206</th>\n",
       "      <td>Lite for Facebook Messenger</td>\n",
       "      <td>76498</td>\n",
       "    </tr>\n",
       "    <tr>\n",
       "      <th>8292</th>\n",
       "      <td>Your Freedom VPN Client</td>\n",
       "      <td>74497</td>\n",
       "    </tr>\n",
       "    <tr>\n",
       "      <th>432</th>\n",
       "      <td>PHONE for Google Voice &amp; GTalk</td>\n",
       "      <td>72065</td>\n",
       "    </tr>\n",
       "    <tr>\n",
       "      <th>7543</th>\n",
       "      <td>CM Transfer - Share any files with friends nearby</td>\n",
       "      <td>71740</td>\n",
       "    </tr>\n",
       "    <tr>\n",
       "      <th>348</th>\n",
       "      <td>Contacts</td>\n",
       "      <td>66602</td>\n",
       "    </tr>\n",
       "    <tr>\n",
       "      <th>360</th>\n",
       "      <td>Chrome Dev</td>\n",
       "      <td>63543</td>\n",
       "    </tr>\n",
       "    <tr>\n",
       "      <th>442</th>\n",
       "      <td>CIA - Caller ID &amp; Call Blocker</td>\n",
       "      <td>60308</td>\n",
       "    </tr>\n",
       "    <tr>\n",
       "      <th>423</th>\n",
       "      <td>Web Browser for Android</td>\n",
       "      <td>55098</td>\n",
       "    </tr>\n",
       "    <tr>\n",
       "      <th>7355</th>\n",
       "      <td>Threema</td>\n",
       "      <td>51110</td>\n",
       "    </tr>\n",
       "    <tr>\n",
       "      <th>373</th>\n",
       "      <td>Seznam.cz</td>\n",
       "      <td>46702</td>\n",
       "    </tr>\n",
       "    <tr>\n",
       "      <th>361</th>\n",
       "      <td>Xperia Linkâ¢</td>\n",
       "      <td>45487</td>\n",
       "    </tr>\n",
       "    <tr>\n",
       "      <th>462</th>\n",
       "      <td>mail.com mail</td>\n",
       "      <td>44706</td>\n",
       "    </tr>\n",
       "    <tr>\n",
       "      <th>9630</th>\n",
       "      <td>Orfox: Tor Browser for Android</td>\n",
       "      <td>44233</td>\n",
       "    </tr>\n",
       "    <tr>\n",
       "      <th>416</th>\n",
       "      <td>Ninesky Browser</td>\n",
       "      <td>42925</td>\n",
       "    </tr>\n",
       "    <tr>\n",
       "      <th>368</th>\n",
       "      <td>My magenta</td>\n",
       "      <td>42370</td>\n",
       "    </tr>\n",
       "    <tr>\n",
       "      <th>5588</th>\n",
       "      <td>Ear Agent: Super Hearing</td>\n",
       "      <td>42329</td>\n",
       "    </tr>\n",
       "    <tr>\n",
       "      <th>461</th>\n",
       "      <td>Daum Mail - Next Mail</td>\n",
       "      <td>41420</td>\n",
       "    </tr>\n",
       "    <tr>\n",
       "      <th>377</th>\n",
       "      <td>Omlet Chat</td>\n",
       "      <td>40751</td>\n",
       "    </tr>\n",
       "  </tbody>\n",
       "</table>\n",
       "<p>100 rows × 2 columns</p>\n",
       "</div>"
      ],
      "text/plain": [
       "                                                     App   Reviews\n",
       "336                                   WhatsApp Messenger  69119316\n",
       "335           Messenger â Text and Video Chat for Free  56642847\n",
       "378          UC Browser - Fast Download Private & Secure  17712922\n",
       "406                          BBM - Free Calls & Messages  12842860\n",
       "342                                      Viber Messenger  11334799\n",
       "403                          LINE: Free Calls & Messages  10790289\n",
       "391                        Skype - free IM & video calls  10484169\n",
       "338                         Google Chrome: Fast & Secure   9642995\n",
       "449    Truecaller: Caller ID, SMS spam blocking & Dialer   7820209\n",
       "365                                               WeChat   5387333\n",
       "351                        Opera Mini - fast web browser   5149854\n",
       "347                        imo free video calls and chat   4785892\n",
       "340                                                Gmail   4604324\n",
       "345                        Yahoo Mail â Stay Organized   4187998\n",
       "366          UC Browser Mini -Tiny Fast Private & Secure   3648120\n",
       "341                                             Hangouts   3419249\n",
       "370                                             Telegram   3128250\n",
       "344                       Firefox Browser fast & private   3075028\n",
       "395           GO SMS Pro - Messenger, Free Themes, Emoji   2876500\n",
       "407                         KakaoTalk: Free Calls & Text   2546527\n",
       "418        Dolphin Browser - Fast, Private & Adblockð¬   2511130\n",
       "356                       Opera Browser: Fast and Secure   2473509\n",
       "4279                                                 Kik   2451136\n",
       "363                                                  Who   2451083\n",
       "413    CM Browser - Ad Blocker , Fast Download , Privacy   2264916\n",
       "371                Google Duo - High Quality Video Calls   2083237\n",
       "339                Messenger Lite: Free Calls & Messages   1429035\n",
       "424                       DU BrowserâBrowse fast & fun   1133501\n",
       "4739   WhatsCall Free Global Phone Call App & Cheap C...   1130966\n",
       "3892                                                Azar   1092337\n",
       "...                                                  ...       ...\n",
       "337                                    Messenger for SMS    125257\n",
       "429                         ExDialer - Dialer & Contacts    125232\n",
       "458                                          GO Notifier    124346\n",
       "457     Newton Mail - Email App for Gmail, Outlook, IMAP    122595\n",
       "384                        Hangouts Dialer - Call Phones    122498\n",
       "4948                         Adblock Browser for Android    121113\n",
       "434                                Full Screen Caller ID    104990\n",
       "353                                    MegaFon Dashboard     99559\n",
       "8904                  Caller ID & Call Block - DU Caller     93930\n",
       "444                          Call Control - Call Blocker     93825\n",
       "453                                             K-9 Mail     88427\n",
       "388                                  Calls & Text by Mo+     83239\n",
       "10206                        Lite for Facebook Messenger     76498\n",
       "8292                             Your Freedom VPN Client     74497\n",
       "432                       PHONE for Google Voice & GTalk     72065\n",
       "7543   CM Transfer - Share any files with friends nearby     71740\n",
       "348                                             Contacts     66602\n",
       "360                                           Chrome Dev     63543\n",
       "442                       CIA - Caller ID & Call Blocker     60308\n",
       "423                              Web Browser for Android     55098\n",
       "7355                                             Threema     51110\n",
       "373                                            Seznam.cz     46702\n",
       "361                                       Xperia Linkâ¢     45487\n",
       "462                                        mail.com mail     44706\n",
       "9630                      Orfox: Tor Browser for Android     44233\n",
       "416                                      Ninesky Browser     42925\n",
       "368                                           My magenta     42370\n",
       "5588                            Ear Agent: Super Hearing     42329\n",
       "461                                Daum Mail - Next Mail     41420\n",
       "377                                           Omlet Chat     40751\n",
       "\n",
       "[100 rows x 2 columns]"
      ]
     },
     "execution_count": 62,
     "metadata": {},
     "output_type": "execute_result"
    }
   ],
   "source": [
    "top_com_cat.loc[:,['App','Reviews']].head(100)"
   ]
  },
  {
   "cell_type": "markdown",
   "metadata": {},
   "source": [
    "#### 10. Arrange top 3 game category apps based on number of installed and rating!"
   ]
  },
  {
   "cell_type": "code",
   "execution_count": 110,
   "metadata": {},
   "outputs": [],
   "source": [
    "top_gam = gplay[gplay.Category=='GAME']\n",
    "top_gam_cat_i=top_gam.sort_values('Rating'and 'Installs',ascending=False)"
   ]
  },
  {
   "cell_type": "code",
   "execution_count": 111,
   "metadata": {},
   "outputs": [
    {
     "data": {
      "text/html": [
       "<div>\n",
       "<style scoped>\n",
       "    .dataframe tbody tr th:only-of-type {\n",
       "        vertical-align: middle;\n",
       "    }\n",
       "\n",
       "    .dataframe tbody tr th {\n",
       "        vertical-align: top;\n",
       "    }\n",
       "\n",
       "    .dataframe thead th {\n",
       "        text-align: right;\n",
       "    }\n",
       "</style>\n",
       "<table border=\"1\" class=\"dataframe\">\n",
       "  <thead>\n",
       "    <tr style=\"text-align: right;\">\n",
       "      <th></th>\n",
       "      <th>App</th>\n",
       "      <th>Rating</th>\n",
       "      <th>Installs</th>\n",
       "    </tr>\n",
       "  </thead>\n",
       "  <tbody>\n",
       "    <tr>\n",
       "      <th>1654</th>\n",
       "      <td>Subway Surfers</td>\n",
       "      <td>4.5</td>\n",
       "      <td>1000000000</td>\n",
       "    </tr>\n",
       "    <tr>\n",
       "      <th>1655</th>\n",
       "      <td>Candy Crush Saga</td>\n",
       "      <td>4.4</td>\n",
       "      <td>500000000</td>\n",
       "    </tr>\n",
       "    <tr>\n",
       "      <th>1661</th>\n",
       "      <td>Temple Run 2</td>\n",
       "      <td>4.3</td>\n",
       "      <td>500000000</td>\n",
       "    </tr>\n",
       "    <tr>\n",
       "      <th>1662</th>\n",
       "      <td>Pou</td>\n",
       "      <td>4.3</td>\n",
       "      <td>500000000</td>\n",
       "    </tr>\n",
       "    <tr>\n",
       "      <th>1722</th>\n",
       "      <td>My Talking Tom</td>\n",
       "      <td>4.5</td>\n",
       "      <td>500000000</td>\n",
       "    </tr>\n",
       "    <tr>\n",
       "      <th>1653</th>\n",
       "      <td>ROBLOX</td>\n",
       "      <td>4.5</td>\n",
       "      <td>100000000</td>\n",
       "    </tr>\n",
       "    <tr>\n",
       "      <th>4052</th>\n",
       "      <td>Bike Race Free - Top Motorcycle Racing Games</td>\n",
       "      <td>4.5</td>\n",
       "      <td>100000000</td>\n",
       "    </tr>\n",
       "    <tr>\n",
       "      <th>1737</th>\n",
       "      <td>Talking Tom Gold Run</td>\n",
       "      <td>4.6</td>\n",
       "      <td>100000000</td>\n",
       "    </tr>\n",
       "    <tr>\n",
       "      <th>1736</th>\n",
       "      <td>Roll the BallÂ® - slide puzzle</td>\n",
       "      <td>4.5</td>\n",
       "      <td>100000000</td>\n",
       "    </tr>\n",
       "    <tr>\n",
       "      <th>4043</th>\n",
       "      <td>Vector</td>\n",
       "      <td>4.4</td>\n",
       "      <td>100000000</td>\n",
       "    </tr>\n",
       "  </tbody>\n",
       "</table>\n",
       "</div>"
      ],
      "text/plain": [
       "                                               App  Rating    Installs\n",
       "1654                                Subway Surfers     4.5  1000000000\n",
       "1655                              Candy Crush Saga     4.4   500000000\n",
       "1661                                  Temple Run 2     4.3   500000000\n",
       "1662                                           Pou     4.3   500000000\n",
       "1722                                My Talking Tom     4.5   500000000\n",
       "1653                                        ROBLOX     4.5   100000000\n",
       "4052  Bike Race Free - Top Motorcycle Racing Games     4.5   100000000\n",
       "1737                          Talking Tom Gold Run     4.6   100000000\n",
       "1736                Roll the BallÂ® - slide puzzle     4.5   100000000\n",
       "4043                                        Vector     4.4   100000000"
      ]
     },
     "execution_count": 111,
     "metadata": {},
     "output_type": "execute_result"
    }
   ],
   "source": [
    "top_gam_cat_i.loc[:,['App','Rating','Installs']].head(10)"
   ]
  },
  {
   "cell_type": "markdown",
   "metadata": {},
   "source": [
    "#### 11. Submit your Github URL that you used to answer this homework. Make sure you start with http and end with ipynb just like the following URL: "
   ]
  },
  {
   "cell_type": "code",
   "execution_count": null,
   "metadata": {},
   "outputs": [],
   "source": []
  }
 ],
 "metadata": {
  "kernelspec": {
   "display_name": "Python 3",
   "language": "python",
   "name": "python3"
  },
  "language_info": {
   "codemirror_mode": {
    "name": "ipython",
    "version": 3
   },
   "file_extension": ".py",
   "mimetype": "text/x-python",
   "name": "python",
   "nbconvert_exporter": "python",
   "pygments_lexer": "ipython3",
   "version": "3.7.3"
  }
 },
 "nbformat": 4,
 "nbformat_minor": 2
}
